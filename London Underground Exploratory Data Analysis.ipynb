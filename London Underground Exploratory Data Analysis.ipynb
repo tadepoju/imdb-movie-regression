{
 "cells": [
  {
   "cell_type": "markdown",
   "id": "joined-vacuum",
   "metadata": {},
   "source": [
    "# Exploratory Data Analysis of London Undergound Data\n",
    "\n",
    "In this notebook I will be conducting exploratory data analysis on London Underground exit data to summarise the key characteristics of the dataset and to evaluate any patterns and / or a relationship between Morning and Evening travel peak periods.\n",
    "\n",
    "I will conduct this analysis in the following ways:\n",
    "1. Calculate the Morning (AM) and Evening (PM) peak periods.\n",
    "2. Evaluate key characteristics of the dataset using various visualisation methods.\n",
    "3. Provide a simple classification of London Undergound Stations.\n",
    "\n",
    "\n",
    "**Table of Contents**\n",
    "\n",
    "1. Section 1: Calculating Morning and Evening Peaks\n",
    "  * Section 1.1: Defining Peak Hours\n",
    "  * Section 1.2: Calculate Morning and AM Peak\n",
    "  * Section 1.3: Calculate Morning Peak Proportion\n",
    "2. Section 2: Plotting and Analysing Distribution\n",
    "  * Section 2.1: Producing Histogram\n",
    "  * Section 2.2: Calculating Measures to Compare the AM and PM Peaks\n",
    "  * Section 2.3: Boxplots\n",
    "  * Section 2.4: Identifying Outliers\n",
    "4. Section 4: Classification of Stations\n",
    "  * Section 4.1: Define Classification\n",
    "  * Section 4.2: Redefine Classification\n",
    "  * Section 4.3: Test Classification using Sample of Stations\n",
    "  * Section 4.4: Final Conclusions"
   ]
  },
  {
   "cell_type": "markdown",
   "id": "celtic-anaheim",
   "metadata": {},
   "source": [
    "### Importing the Various Libraries and the Dataset"
   ]
  },
  {
   "cell_type": "code",
   "execution_count": 1,
   "id": "blond-restriction",
   "metadata": {},
   "outputs": [],
   "source": [
    "#import libraries\n",
    "import pandas as pd\n",
    "import matplotlib.pyplot as plt\n",
    "import numpy as np \n",
    "import statsmodels.api as sm \n",
    "%matplotlib inline"
   ]
  },
  {
   "cell_type": "code",
   "execution_count": 2,
   "id": "crude-person",
   "metadata": {},
   "outputs": [
    {
     "data": {
      "text/html": [
       "<div>\n",
       "<style scoped>\n",
       "    .dataframe tbody tr th:only-of-type {\n",
       "        vertical-align: middle;\n",
       "    }\n",
       "\n",
       "    .dataframe tbody tr th {\n",
       "        vertical-align: top;\n",
       "    }\n",
       "\n",
       "    .dataframe thead th {\n",
       "        text-align: right;\n",
       "    }\n",
       "</style>\n",
       "<table border=\"1\" class=\"dataframe\">\n",
       "  <thead>\n",
       "    <tr style=\"text-align: right;\">\n",
       "      <th></th>\n",
       "      <th>H05</th>\n",
       "      <th>H06</th>\n",
       "      <th>H07</th>\n",
       "      <th>H08</th>\n",
       "      <th>H09</th>\n",
       "      <th>H10</th>\n",
       "      <th>H11</th>\n",
       "      <th>H12</th>\n",
       "      <th>H13</th>\n",
       "      <th>H14</th>\n",
       "      <th>...</th>\n",
       "      <th>H16</th>\n",
       "      <th>H17</th>\n",
       "      <th>H18</th>\n",
       "      <th>H19</th>\n",
       "      <th>H20</th>\n",
       "      <th>H21</th>\n",
       "      <th>H22</th>\n",
       "      <th>H23</th>\n",
       "      <th>H00</th>\n",
       "      <th>H01</th>\n",
       "    </tr>\n",
       "    <tr>\n",
       "      <th>Station</th>\n",
       "      <th></th>\n",
       "      <th></th>\n",
       "      <th></th>\n",
       "      <th></th>\n",
       "      <th></th>\n",
       "      <th></th>\n",
       "      <th></th>\n",
       "      <th></th>\n",
       "      <th></th>\n",
       "      <th></th>\n",
       "      <th></th>\n",
       "      <th></th>\n",
       "      <th></th>\n",
       "      <th></th>\n",
       "      <th></th>\n",
       "      <th></th>\n",
       "      <th></th>\n",
       "      <th></th>\n",
       "      <th></th>\n",
       "      <th></th>\n",
       "      <th></th>\n",
       "    </tr>\n",
       "  </thead>\n",
       "  <tbody>\n",
       "    <tr>\n",
       "      <th>Acton Town</th>\n",
       "      <td>30</td>\n",
       "      <td>208</td>\n",
       "      <td>710</td>\n",
       "      <td>812</td>\n",
       "      <td>448</td>\n",
       "      <td>231</td>\n",
       "      <td>221</td>\n",
       "      <td>259</td>\n",
       "      <td>301</td>\n",
       "      <td>327</td>\n",
       "      <td>...</td>\n",
       "      <td>634</td>\n",
       "      <td>917</td>\n",
       "      <td>1077</td>\n",
       "      <td>793</td>\n",
       "      <td>505</td>\n",
       "      <td>424</td>\n",
       "      <td>424</td>\n",
       "      <td>366</td>\n",
       "      <td>210</td>\n",
       "      <td>54</td>\n",
       "    </tr>\n",
       "    <tr>\n",
       "      <th>Aldgate</th>\n",
       "      <td>36</td>\n",
       "      <td>301</td>\n",
       "      <td>1319</td>\n",
       "      <td>3076</td>\n",
       "      <td>3013</td>\n",
       "      <td>1037</td>\n",
       "      <td>587</td>\n",
       "      <td>554</td>\n",
       "      <td>559</td>\n",
       "      <td>514</td>\n",
       "      <td>...</td>\n",
       "      <td>721</td>\n",
       "      <td>1116</td>\n",
       "      <td>1155</td>\n",
       "      <td>566</td>\n",
       "      <td>331</td>\n",
       "      <td>260</td>\n",
       "      <td>237</td>\n",
       "      <td>171</td>\n",
       "      <td>58</td>\n",
       "      <td>0</td>\n",
       "    </tr>\n",
       "    <tr>\n",
       "      <th>Aldgate East</th>\n",
       "      <td>50</td>\n",
       "      <td>324</td>\n",
       "      <td>1192</td>\n",
       "      <td>3045</td>\n",
       "      <td>3381</td>\n",
       "      <td>1340</td>\n",
       "      <td>897</td>\n",
       "      <td>920</td>\n",
       "      <td>919</td>\n",
       "      <td>866</td>\n",
       "      <td>...</td>\n",
       "      <td>935</td>\n",
       "      <td>1263</td>\n",
       "      <td>1605</td>\n",
       "      <td>1127</td>\n",
       "      <td>708</td>\n",
       "      <td>560</td>\n",
       "      <td>532</td>\n",
       "      <td>457</td>\n",
       "      <td>239</td>\n",
       "      <td>26</td>\n",
       "    </tr>\n",
       "    <tr>\n",
       "      <th>Alperton</th>\n",
       "      <td>16</td>\n",
       "      <td>101</td>\n",
       "      <td>230</td>\n",
       "      <td>372</td>\n",
       "      <td>254</td>\n",
       "      <td>149</td>\n",
       "      <td>137</td>\n",
       "      <td>152</td>\n",
       "      <td>176</td>\n",
       "      <td>205</td>\n",
       "      <td>...</td>\n",
       "      <td>444</td>\n",
       "      <td>679</td>\n",
       "      <td>724</td>\n",
       "      <td>424</td>\n",
       "      <td>222</td>\n",
       "      <td>161</td>\n",
       "      <td>143</td>\n",
       "      <td>146</td>\n",
       "      <td>72</td>\n",
       "      <td>6</td>\n",
       "    </tr>\n",
       "    <tr>\n",
       "      <th>Amersham</th>\n",
       "      <td>3</td>\n",
       "      <td>18</td>\n",
       "      <td>82</td>\n",
       "      <td>246</td>\n",
       "      <td>96</td>\n",
       "      <td>56</td>\n",
       "      <td>48</td>\n",
       "      <td>62</td>\n",
       "      <td>75</td>\n",
       "      <td>94</td>\n",
       "      <td>...</td>\n",
       "      <td>364</td>\n",
       "      <td>409</td>\n",
       "      <td>692</td>\n",
       "      <td>540</td>\n",
       "      <td>287</td>\n",
       "      <td>182</td>\n",
       "      <td>154</td>\n",
       "      <td>175</td>\n",
       "      <td>99</td>\n",
       "      <td>6</td>\n",
       "    </tr>\n",
       "    <tr>\n",
       "      <th>...</th>\n",
       "      <td>...</td>\n",
       "      <td>...</td>\n",
       "      <td>...</td>\n",
       "      <td>...</td>\n",
       "      <td>...</td>\n",
       "      <td>...</td>\n",
       "      <td>...</td>\n",
       "      <td>...</td>\n",
       "      <td>...</td>\n",
       "      <td>...</td>\n",
       "      <td>...</td>\n",
       "      <td>...</td>\n",
       "      <td>...</td>\n",
       "      <td>...</td>\n",
       "      <td>...</td>\n",
       "      <td>...</td>\n",
       "      <td>...</td>\n",
       "      <td>...</td>\n",
       "      <td>...</td>\n",
       "      <td>...</td>\n",
       "      <td>...</td>\n",
       "    </tr>\n",
       "    <tr>\n",
       "      <th>Wimbledon Park</th>\n",
       "      <td>4</td>\n",
       "      <td>38</td>\n",
       "      <td>173</td>\n",
       "      <td>192</td>\n",
       "      <td>132</td>\n",
       "      <td>83</td>\n",
       "      <td>73</td>\n",
       "      <td>99</td>\n",
       "      <td>129</td>\n",
       "      <td>123</td>\n",
       "      <td>...</td>\n",
       "      <td>283</td>\n",
       "      <td>364</td>\n",
       "      <td>467</td>\n",
       "      <td>333</td>\n",
       "      <td>183</td>\n",
       "      <td>146</td>\n",
       "      <td>139</td>\n",
       "      <td>108</td>\n",
       "      <td>53</td>\n",
       "      <td>10</td>\n",
       "    </tr>\n",
       "    <tr>\n",
       "      <th>Wood Green</th>\n",
       "      <td>17</td>\n",
       "      <td>154</td>\n",
       "      <td>450</td>\n",
       "      <td>831</td>\n",
       "      <td>884</td>\n",
       "      <td>557</td>\n",
       "      <td>528</td>\n",
       "      <td>604</td>\n",
       "      <td>705</td>\n",
       "      <td>802</td>\n",
       "      <td>...</td>\n",
       "      <td>1554</td>\n",
       "      <td>2334</td>\n",
       "      <td>2606</td>\n",
       "      <td>1802</td>\n",
       "      <td>1123</td>\n",
       "      <td>862</td>\n",
       "      <td>799</td>\n",
       "      <td>773</td>\n",
       "      <td>497</td>\n",
       "      <td>78</td>\n",
       "    </tr>\n",
       "    <tr>\n",
       "      <th>Wood Lane</th>\n",
       "      <td>13</td>\n",
       "      <td>138</td>\n",
       "      <td>441</td>\n",
       "      <td>594</td>\n",
       "      <td>763</td>\n",
       "      <td>396</td>\n",
       "      <td>322</td>\n",
       "      <td>338</td>\n",
       "      <td>342</td>\n",
       "      <td>304</td>\n",
       "      <td>...</td>\n",
       "      <td>455</td>\n",
       "      <td>665</td>\n",
       "      <td>646</td>\n",
       "      <td>354</td>\n",
       "      <td>187</td>\n",
       "      <td>117</td>\n",
       "      <td>101</td>\n",
       "      <td>71</td>\n",
       "      <td>28</td>\n",
       "      <td>4</td>\n",
       "    </tr>\n",
       "    <tr>\n",
       "      <th>Woodford</th>\n",
       "      <td>4</td>\n",
       "      <td>55</td>\n",
       "      <td>220</td>\n",
       "      <td>315</td>\n",
       "      <td>168</td>\n",
       "      <td>150</td>\n",
       "      <td>177</td>\n",
       "      <td>238</td>\n",
       "      <td>304</td>\n",
       "      <td>380</td>\n",
       "      <td>...</td>\n",
       "      <td>862</td>\n",
       "      <td>1395</td>\n",
       "      <td>1632</td>\n",
       "      <td>1101</td>\n",
       "      <td>615</td>\n",
       "      <td>421</td>\n",
       "      <td>407</td>\n",
       "      <td>373</td>\n",
       "      <td>200</td>\n",
       "      <td>45</td>\n",
       "    </tr>\n",
       "    <tr>\n",
       "      <th>Woodside Park</th>\n",
       "      <td>11</td>\n",
       "      <td>14</td>\n",
       "      <td>100</td>\n",
       "      <td>245</td>\n",
       "      <td>142</td>\n",
       "      <td>79</td>\n",
       "      <td>105</td>\n",
       "      <td>131</td>\n",
       "      <td>190</td>\n",
       "      <td>203</td>\n",
       "      <td>...</td>\n",
       "      <td>533</td>\n",
       "      <td>914</td>\n",
       "      <td>1207</td>\n",
       "      <td>710</td>\n",
       "      <td>376</td>\n",
       "      <td>342</td>\n",
       "      <td>288</td>\n",
       "      <td>202</td>\n",
       "      <td>62</td>\n",
       "      <td>6</td>\n",
       "    </tr>\n",
       "  </tbody>\n",
       "</table>\n",
       "<p>268 rows × 21 columns</p>\n",
       "</div>"
      ],
      "text/plain": [
       "                H05  H06   H07   H08   H09   H10  H11  H12  H13  H14  ...  \\\n",
       "Station                                                               ...   \n",
       "Acton Town       30  208   710   812   448   231  221  259  301  327  ...   \n",
       "Aldgate          36  301  1319  3076  3013  1037  587  554  559  514  ...   \n",
       "Aldgate East     50  324  1192  3045  3381  1340  897  920  919  866  ...   \n",
       "Alperton         16  101   230   372   254   149  137  152  176  205  ...   \n",
       "Amersham          3   18    82   246    96    56   48   62   75   94  ...   \n",
       "...             ...  ...   ...   ...   ...   ...  ...  ...  ...  ...  ...   \n",
       "Wimbledon Park    4   38   173   192   132    83   73   99  129  123  ...   \n",
       "Wood Green       17  154   450   831   884   557  528  604  705  802  ...   \n",
       "Wood Lane        13  138   441   594   763   396  322  338  342  304  ...   \n",
       "Woodford          4   55   220   315   168   150  177  238  304  380  ...   \n",
       "Woodside Park    11   14   100   245   142    79  105  131  190  203  ...   \n",
       "\n",
       "                 H16   H17   H18   H19   H20  H21  H22  H23  H00  H01  \n",
       "Station                                                                \n",
       "Acton Town       634   917  1077   793   505  424  424  366  210   54  \n",
       "Aldgate          721  1116  1155   566   331  260  237  171   58    0  \n",
       "Aldgate East     935  1263  1605  1127   708  560  532  457  239   26  \n",
       "Alperton         444   679   724   424   222  161  143  146   72    6  \n",
       "Amersham         364   409   692   540   287  182  154  175   99    6  \n",
       "...              ...   ...   ...   ...   ...  ...  ...  ...  ...  ...  \n",
       "Wimbledon Park   283   364   467   333   183  146  139  108   53   10  \n",
       "Wood Green      1554  2334  2606  1802  1123  862  799  773  497   78  \n",
       "Wood Lane        455   665   646   354   187  117  101   71   28    4  \n",
       "Woodford         862  1395  1632  1101   615  421  407  373  200   45  \n",
       "Woodside Park    533   914  1207   710   376  342  288  202   62    6  \n",
       "\n",
       "[268 rows x 21 columns]"
      ]
     },
     "execution_count": 2,
     "metadata": {},
     "output_type": "execute_result"
    }
   ],
   "source": [
    "#Dataset\n",
    "exits = pd.read_csv('hourlyExits.csv',index_col='Station')\n",
    "exits"
   ]
  },
  {
   "cell_type": "markdown",
   "id": "julian-dominican",
   "metadata": {},
   "source": [
    "## Section 1: Calculating Morning and Evening Peak Proportions\n",
    "\n",
    "In this section we derive variables that can be used to compare the peak exits at different stations. \n",
    "\n",
    "### 1.1: Defining Peak Hours\n",
    "The following 6 periods are commonly distinguished in the management of the London Underground. \n",
    "\n",
    "| Period      | Hours Included | \n",
    "|:----------- |:---------------- | \n",
    "|  Early      | H05, H06      | \n",
    "|  AMPeak     | H07, H08, H09 | \n",
    "|  Interpeak  | H10, H11, H12, H13, H14, H15 | \n",
    "|  PMPeak     | H16, H17, H18 | \n",
    "|  Evening    | H19, H20, H21 | \n",
    "|  Late       | H22, H23, H00, H01 | \n",
    "\n",
    "We will focus on only the morning and evening peaks. \n",
    "\n",
    "### 1.2 Create Dataframe to show AM and PM Peaks\n",
    "\n",
    "Now that we have imported the dataset, I am going to create another new dataset that will consist of sub-groups within the main dataset - namely the hours that are considered within the Morning peak (7am - 9am) and Evening peak (4pm - 6pm).\n",
    "\n",
    "The steps involved in doing this are:\n",
    "- Create an empty dataframe\n",
    "- Calculating AM and PM peaks counts for each station \n",
    "- Creating AM and PM peak counts column and add new columns to empty dataframe"
   ]
  },
  {
   "cell_type": "code",
   "execution_count": 3,
   "id": "subtle-belly",
   "metadata": {},
   "outputs": [
    {
     "data": {
      "text/html": [
       "<div>\n",
       "<style scoped>\n",
       "    .dataframe tbody tr th:only-of-type {\n",
       "        vertical-align: middle;\n",
       "    }\n",
       "\n",
       "    .dataframe tbody tr th {\n",
       "        vertical-align: top;\n",
       "    }\n",
       "\n",
       "    .dataframe thead th {\n",
       "        text-align: right;\n",
       "    }\n",
       "</style>\n",
       "<table border=\"1\" class=\"dataframe\">\n",
       "  <thead>\n",
       "    <tr style=\"text-align: right;\">\n",
       "      <th></th>\n",
       "      <th>AMpeaks</th>\n",
       "    </tr>\n",
       "    <tr>\n",
       "      <th>Station</th>\n",
       "      <th></th>\n",
       "    </tr>\n",
       "  </thead>\n",
       "  <tbody>\n",
       "    <tr>\n",
       "      <th>Acton Town</th>\n",
       "      <td>1970</td>\n",
       "    </tr>\n",
       "    <tr>\n",
       "      <th>Aldgate</th>\n",
       "      <td>7408</td>\n",
       "    </tr>\n",
       "    <tr>\n",
       "      <th>Aldgate East</th>\n",
       "      <td>7618</td>\n",
       "    </tr>\n",
       "    <tr>\n",
       "      <th>Alperton</th>\n",
       "      <td>856</td>\n",
       "    </tr>\n",
       "    <tr>\n",
       "      <th>Amersham</th>\n",
       "      <td>424</td>\n",
       "    </tr>\n",
       "    <tr>\n",
       "      <th>...</th>\n",
       "      <td>...</td>\n",
       "    </tr>\n",
       "    <tr>\n",
       "      <th>Wimbledon Park</th>\n",
       "      <td>497</td>\n",
       "    </tr>\n",
       "    <tr>\n",
       "      <th>Wood Green</th>\n",
       "      <td>2165</td>\n",
       "    </tr>\n",
       "    <tr>\n",
       "      <th>Wood Lane</th>\n",
       "      <td>1798</td>\n",
       "    </tr>\n",
       "    <tr>\n",
       "      <th>Woodford</th>\n",
       "      <td>703</td>\n",
       "    </tr>\n",
       "    <tr>\n",
       "      <th>Woodside Park</th>\n",
       "      <td>487</td>\n",
       "    </tr>\n",
       "  </tbody>\n",
       "</table>\n",
       "<p>268 rows × 1 columns</p>\n",
       "</div>"
      ],
      "text/plain": [
       "                AMpeaks\n",
       "Station                \n",
       "Acton Town         1970\n",
       "Aldgate            7408\n",
       "Aldgate East       7618\n",
       "Alperton            856\n",
       "Amersham            424\n",
       "...                 ...\n",
       "Wimbledon Park      497\n",
       "Wood Green         2165\n",
       "Wood Lane          1798\n",
       "Woodford            703\n",
       "Woodside Park       487\n",
       "\n",
       "[268 rows x 1 columns]"
      ]
     },
     "execution_count": 3,
     "metadata": {},
     "output_type": "execute_result"
    }
   ],
   "source": [
    "#Create empty dataframe\n",
    "df = pd.DataFrame()\n",
    "\n",
    "#Combine H07, H08 and H09 to form AM column\n",
    "AM_peaks = exits['H07'] + exits['H08'] + exits['H09']\n",
    "\n",
    "#Combine H16, H17 and H18 to form PM column\n",
    "PM_peaks = exits['H16'] + exits['H17'] + exits['H18']\n",
    "\n",
    "#Add column to empty dataframe\n",
    "df_1 = df.assign(Station = exits.index)\n",
    "\n",
    "#Add column to empty dataframe\n",
    "df_2 = df.assign(AMpeaks = AM_peaks)\n",
    "df_2"
   ]
  },
  {
   "cell_type": "markdown",
   "id": "existing-telescope",
   "metadata": {},
   "source": [
    "In the below dataframe I can directly compare the Morning peak count to the Evening peak count for each station."
   ]
  },
  {
   "cell_type": "code",
   "execution_count": 4,
   "id": "sufficient-chapel",
   "metadata": {},
   "outputs": [
    {
     "data": {
      "text/html": [
       "<div>\n",
       "<style scoped>\n",
       "    .dataframe tbody tr th:only-of-type {\n",
       "        vertical-align: middle;\n",
       "    }\n",
       "\n",
       "    .dataframe tbody tr th {\n",
       "        vertical-align: top;\n",
       "    }\n",
       "\n",
       "    .dataframe thead th {\n",
       "        text-align: right;\n",
       "    }\n",
       "</style>\n",
       "<table border=\"1\" class=\"dataframe\">\n",
       "  <thead>\n",
       "    <tr style=\"text-align: right;\">\n",
       "      <th></th>\n",
       "      <th>AMpeaks</th>\n",
       "      <th>PMpeaks</th>\n",
       "    </tr>\n",
       "    <tr>\n",
       "      <th>Station</th>\n",
       "      <th></th>\n",
       "      <th></th>\n",
       "    </tr>\n",
       "  </thead>\n",
       "  <tbody>\n",
       "    <tr>\n",
       "      <th>Acton Town</th>\n",
       "      <td>1970</td>\n",
       "      <td>2628</td>\n",
       "    </tr>\n",
       "    <tr>\n",
       "      <th>Aldgate</th>\n",
       "      <td>7408</td>\n",
       "      <td>2992</td>\n",
       "    </tr>\n",
       "    <tr>\n",
       "      <th>Aldgate East</th>\n",
       "      <td>7618</td>\n",
       "      <td>3803</td>\n",
       "    </tr>\n",
       "    <tr>\n",
       "      <th>Alperton</th>\n",
       "      <td>856</td>\n",
       "      <td>1847</td>\n",
       "    </tr>\n",
       "    <tr>\n",
       "      <th>Amersham</th>\n",
       "      <td>424</td>\n",
       "      <td>1465</td>\n",
       "    </tr>\n",
       "    <tr>\n",
       "      <th>...</th>\n",
       "      <td>...</td>\n",
       "      <td>...</td>\n",
       "    </tr>\n",
       "    <tr>\n",
       "      <th>Wimbledon Park</th>\n",
       "      <td>497</td>\n",
       "      <td>1114</td>\n",
       "    </tr>\n",
       "    <tr>\n",
       "      <th>Wood Green</th>\n",
       "      <td>2165</td>\n",
       "      <td>6494</td>\n",
       "    </tr>\n",
       "    <tr>\n",
       "      <th>Wood Lane</th>\n",
       "      <td>1798</td>\n",
       "      <td>1766</td>\n",
       "    </tr>\n",
       "    <tr>\n",
       "      <th>Woodford</th>\n",
       "      <td>703</td>\n",
       "      <td>3889</td>\n",
       "    </tr>\n",
       "    <tr>\n",
       "      <th>Woodside Park</th>\n",
       "      <td>487</td>\n",
       "      <td>2654</td>\n",
       "    </tr>\n",
       "  </tbody>\n",
       "</table>\n",
       "<p>268 rows × 2 columns</p>\n",
       "</div>"
      ],
      "text/plain": [
       "                AMpeaks  PMpeaks\n",
       "Station                         \n",
       "Acton Town         1970     2628\n",
       "Aldgate            7408     2992\n",
       "Aldgate East       7618     3803\n",
       "Alperton            856     1847\n",
       "Amersham            424     1465\n",
       "...                 ...      ...\n",
       "Wimbledon Park      497     1114\n",
       "Wood Green         2165     6494\n",
       "Wood Lane          1798     1766\n",
       "Woodford            703     3889\n",
       "Woodside Park       487     2654\n",
       "\n",
       "[268 rows x 2 columns]"
      ]
     },
     "execution_count": 4,
     "metadata": {},
     "output_type": "execute_result"
    }
   ],
   "source": [
    "peak_counts = df_2.assign(PMpeaks = PM_peaks)\n",
    "peak_counts"
   ]
  },
  {
   "cell_type": "markdown",
   "id": "dramatic-nevada",
   "metadata": {},
   "source": [
    "### 1.3 Calculate Morning Peak Proportion\n",
    "\n",
    "Now that I have created a new dataframe with the Morning peaks and Evening peaks, I can begin to start manipulating the data.\n",
    "\n",
    "I will be doing the following to the dataset:\n",
    "1. Create new dataframe\n",
    "2. Calculate daily total for all stations by finding the sum of each row and add column to dataframe\n",
    "3. Calculate proportion of AM peaks against total and add column to dataframe\n",
    "4. Give new column the value of the proportion of AM peaks to the total and add column to dataframe\n",
    "5. Calculate the difference between the AM and PM peak proportions and add column to dataframe\n",
    "6. Calculate the ratio between the AM and PM peak proportions and add column to dataframe"
   ]
  },
  {
   "cell_type": "code",
   "execution_count": 5,
   "id": "confirmed-campus",
   "metadata": {},
   "outputs": [
    {
     "data": {
      "text/html": [
       "<div>\n",
       "<style scoped>\n",
       "    .dataframe tbody tr th:only-of-type {\n",
       "        vertical-align: middle;\n",
       "    }\n",
       "\n",
       "    .dataframe tbody tr th {\n",
       "        vertical-align: top;\n",
       "    }\n",
       "\n",
       "    .dataframe thead th {\n",
       "        text-align: right;\n",
       "    }\n",
       "</style>\n",
       "<table border=\"1\" class=\"dataframe\">\n",
       "  <thead>\n",
       "    <tr style=\"text-align: right;\">\n",
       "      <th></th>\n",
       "      <th>Total</th>\n",
       "      <th>AMproportion</th>\n",
       "      <th>PMproportion</th>\n",
       "    </tr>\n",
       "    <tr>\n",
       "      <th>Station</th>\n",
       "      <th></th>\n",
       "      <th></th>\n",
       "      <th></th>\n",
       "    </tr>\n",
       "  </thead>\n",
       "  <tbody>\n",
       "    <tr>\n",
       "      <th>Acton Town</th>\n",
       "      <td>9362</td>\n",
       "      <td>0.210425</td>\n",
       "      <td>0.280709</td>\n",
       "    </tr>\n",
       "    <tr>\n",
       "      <th>Aldgate</th>\n",
       "      <td>16136</td>\n",
       "      <td>0.459098</td>\n",
       "      <td>0.185424</td>\n",
       "    </tr>\n",
       "    <tr>\n",
       "      <th>Aldgate East</th>\n",
       "      <td>21206</td>\n",
       "      <td>0.359238</td>\n",
       "      <td>0.179336</td>\n",
       "    </tr>\n",
       "    <tr>\n",
       "      <th>Alperton</th>\n",
       "      <td>5118</td>\n",
       "      <td>0.167253</td>\n",
       "      <td>0.360883</td>\n",
       "    </tr>\n",
       "    <tr>\n",
       "      <th>Amersham</th>\n",
       "      <td>3905</td>\n",
       "      <td>0.108579</td>\n",
       "      <td>0.375160</td>\n",
       "    </tr>\n",
       "    <tr>\n",
       "      <th>...</th>\n",
       "      <td>...</td>\n",
       "      <td>...</td>\n",
       "      <td>...</td>\n",
       "    </tr>\n",
       "    <tr>\n",
       "      <th>Wimbledon Park</th>\n",
       "      <td>3296</td>\n",
       "      <td>0.150789</td>\n",
       "      <td>0.337985</td>\n",
       "    </tr>\n",
       "    <tr>\n",
       "      <th>Wood Green</th>\n",
       "      <td>18989</td>\n",
       "      <td>0.114013</td>\n",
       "      <td>0.341987</td>\n",
       "    </tr>\n",
       "    <tr>\n",
       "      <th>Wood Lane</th>\n",
       "      <td>6610</td>\n",
       "      <td>0.272012</td>\n",
       "      <td>0.267171</td>\n",
       "    </tr>\n",
       "    <tr>\n",
       "      <th>Woodford</th>\n",
       "      <td>9585</td>\n",
       "      <td>0.073344</td>\n",
       "      <td>0.405738</td>\n",
       "    </tr>\n",
       "    <tr>\n",
       "      <th>Woodside Park</th>\n",
       "      <td>6146</td>\n",
       "      <td>0.079239</td>\n",
       "      <td>0.431826</td>\n",
       "    </tr>\n",
       "  </tbody>\n",
       "</table>\n",
       "<p>268 rows × 3 columns</p>\n",
       "</div>"
      ],
      "text/plain": [
       "                Total  AMproportion  PMproportion\n",
       "Station                                          \n",
       "Acton Town       9362      0.210425      0.280709\n",
       "Aldgate         16136      0.459098      0.185424\n",
       "Aldgate East    21206      0.359238      0.179336\n",
       "Alperton         5118      0.167253      0.360883\n",
       "Amersham         3905      0.108579      0.375160\n",
       "...               ...           ...           ...\n",
       "Wimbledon Park   3296      0.150789      0.337985\n",
       "Wood Green      18989      0.114013      0.341987\n",
       "Wood Lane        6610      0.272012      0.267171\n",
       "Woodford         9585      0.073344      0.405738\n",
       "Woodside Park    6146      0.079239      0.431826\n",
       "\n",
       "[268 rows x 3 columns]"
      ]
     },
     "execution_count": 5,
     "metadata": {},
     "output_type": "execute_result"
    }
   ],
   "source": [
    "totals = pd.DataFrame().assign(Total = exits.apply(sum, axis=1))\n",
    "totals\n",
    "\n",
    "#Calculate AM proportion and add new column to dataframe\n",
    "AM_prop = totals.assign(AMproportion = peak_counts.AMpeaks / totals.Total)\n",
    "AM_prop\n",
    "\n",
    "#Repeat calculations for PM proportion\n",
    "df_proportions = AM_prop.assign(PMproportion = peak_counts.PMpeaks / totals.Total)\n",
    "df_proportions"
   ]
  },
  {
   "cell_type": "markdown",
   "id": "protective-sunrise",
   "metadata": {},
   "source": [
    "#### Calculating the difference between the AM and PM peak proportions\n",
    "\n",
    "Next I will have a closer look at the AM and PM proportions in order to try and determine their relationship.\n",
    "1. I will use the calculation `PM - AM` to find the difference between the AM and PM peak proportions\n",
    "2. I will use `PM/AM` to calculate the ration between the AM and PM peak proportions\n",
    "\n",
    "With the calculation I am using for the Difference, if the value is positive it means that the proportion of PM peaks is greater than AM peaks whereas if the number is negative the proportion of AM peaks is higher than PM peaks."
   ]
  },
  {
   "cell_type": "code",
   "execution_count": 6,
   "id": "assured-learning",
   "metadata": {},
   "outputs": [
    {
     "data": {
      "text/html": [
       "<div>\n",
       "<style scoped>\n",
       "    .dataframe tbody tr th:only-of-type {\n",
       "        vertical-align: middle;\n",
       "    }\n",
       "\n",
       "    .dataframe tbody tr th {\n",
       "        vertical-align: top;\n",
       "    }\n",
       "\n",
       "    .dataframe thead th {\n",
       "        text-align: right;\n",
       "    }\n",
       "</style>\n",
       "<table border=\"1\" class=\"dataframe\">\n",
       "  <thead>\n",
       "    <tr style=\"text-align: right;\">\n",
       "      <th></th>\n",
       "      <th>Total</th>\n",
       "      <th>AMproportion</th>\n",
       "      <th>PMproportion</th>\n",
       "      <th>Difference</th>\n",
       "    </tr>\n",
       "    <tr>\n",
       "      <th>Station</th>\n",
       "      <th></th>\n",
       "      <th></th>\n",
       "      <th></th>\n",
       "      <th></th>\n",
       "    </tr>\n",
       "  </thead>\n",
       "  <tbody>\n",
       "    <tr>\n",
       "      <th>Acton Town</th>\n",
       "      <td>9362</td>\n",
       "      <td>0.210425</td>\n",
       "      <td>0.280709</td>\n",
       "      <td>0.070284</td>\n",
       "    </tr>\n",
       "    <tr>\n",
       "      <th>Aldgate</th>\n",
       "      <td>16136</td>\n",
       "      <td>0.459098</td>\n",
       "      <td>0.185424</td>\n",
       "      <td>-0.273674</td>\n",
       "    </tr>\n",
       "    <tr>\n",
       "      <th>Aldgate East</th>\n",
       "      <td>21206</td>\n",
       "      <td>0.359238</td>\n",
       "      <td>0.179336</td>\n",
       "      <td>-0.179902</td>\n",
       "    </tr>\n",
       "    <tr>\n",
       "      <th>Alperton</th>\n",
       "      <td>5118</td>\n",
       "      <td>0.167253</td>\n",
       "      <td>0.360883</td>\n",
       "      <td>0.193630</td>\n",
       "    </tr>\n",
       "    <tr>\n",
       "      <th>Amersham</th>\n",
       "      <td>3905</td>\n",
       "      <td>0.108579</td>\n",
       "      <td>0.375160</td>\n",
       "      <td>0.266581</td>\n",
       "    </tr>\n",
       "    <tr>\n",
       "      <th>...</th>\n",
       "      <td>...</td>\n",
       "      <td>...</td>\n",
       "      <td>...</td>\n",
       "      <td>...</td>\n",
       "    </tr>\n",
       "    <tr>\n",
       "      <th>Wimbledon Park</th>\n",
       "      <td>3296</td>\n",
       "      <td>0.150789</td>\n",
       "      <td>0.337985</td>\n",
       "      <td>0.187197</td>\n",
       "    </tr>\n",
       "    <tr>\n",
       "      <th>Wood Green</th>\n",
       "      <td>18989</td>\n",
       "      <td>0.114013</td>\n",
       "      <td>0.341987</td>\n",
       "      <td>0.227974</td>\n",
       "    </tr>\n",
       "    <tr>\n",
       "      <th>Wood Lane</th>\n",
       "      <td>6610</td>\n",
       "      <td>0.272012</td>\n",
       "      <td>0.267171</td>\n",
       "      <td>-0.004841</td>\n",
       "    </tr>\n",
       "    <tr>\n",
       "      <th>Woodford</th>\n",
       "      <td>9585</td>\n",
       "      <td>0.073344</td>\n",
       "      <td>0.405738</td>\n",
       "      <td>0.332394</td>\n",
       "    </tr>\n",
       "    <tr>\n",
       "      <th>Woodside Park</th>\n",
       "      <td>6146</td>\n",
       "      <td>0.079239</td>\n",
       "      <td>0.431826</td>\n",
       "      <td>0.352587</td>\n",
       "    </tr>\n",
       "  </tbody>\n",
       "</table>\n",
       "<p>268 rows × 4 columns</p>\n",
       "</div>"
      ],
      "text/plain": [
       "                Total  AMproportion  PMproportion  Difference\n",
       "Station                                                      \n",
       "Acton Town       9362      0.210425      0.280709    0.070284\n",
       "Aldgate         16136      0.459098      0.185424   -0.273674\n",
       "Aldgate East    21206      0.359238      0.179336   -0.179902\n",
       "Alperton         5118      0.167253      0.360883    0.193630\n",
       "Amersham         3905      0.108579      0.375160    0.266581\n",
       "...               ...           ...           ...         ...\n",
       "Wimbledon Park   3296      0.150789      0.337985    0.187197\n",
       "Wood Green      18989      0.114013      0.341987    0.227974\n",
       "Wood Lane        6610      0.272012      0.267171   -0.004841\n",
       "Woodford         9585      0.073344      0.405738    0.332394\n",
       "Woodside Park    6146      0.079239      0.431826    0.352587\n",
       "\n",
       "[268 rows x 4 columns]"
      ]
     },
     "execution_count": 6,
     "metadata": {},
     "output_type": "execute_result"
    }
   ],
   "source": [
    "df_diff = df_proportions.assign(Difference = df_proportions.PMproportion - df_proportions.AMproportion)\n",
    "df_diff"
   ]
  },
  {
   "cell_type": "markdown",
   "id": "confidential-portugal",
   "metadata": {},
   "source": [
    "#### Calculating the ratio\n",
    "To calculate the ratio I will use `PM proportion / AM proportion`, therefore if the value of the ratio is higher than 1, then there are a higher proportion of PM peaks in comparison to AM peaks and therefore if the ratio is below 1 then the opposite is valid.\n",
    "\n",
    "In addition to this, the ratio allows us to see how much higher one proportion is in comparison to the other (vice versa) which calculating the difference does not. Therefore we can see how much higher the PM peak is in comparison to the AM peak."
   ]
  },
  {
   "cell_type": "code",
   "execution_count": 7,
   "id": "inner-reliance",
   "metadata": {},
   "outputs": [
    {
     "data": {
      "text/html": [
       "<div>\n",
       "<style scoped>\n",
       "    .dataframe tbody tr th:only-of-type {\n",
       "        vertical-align: middle;\n",
       "    }\n",
       "\n",
       "    .dataframe tbody tr th {\n",
       "        vertical-align: top;\n",
       "    }\n",
       "\n",
       "    .dataframe thead th {\n",
       "        text-align: right;\n",
       "    }\n",
       "</style>\n",
       "<table border=\"1\" class=\"dataframe\">\n",
       "  <thead>\n",
       "    <tr style=\"text-align: right;\">\n",
       "      <th></th>\n",
       "      <th>Total</th>\n",
       "      <th>AMproportion</th>\n",
       "      <th>PMproportion</th>\n",
       "      <th>Difference</th>\n",
       "      <th>Ratio</th>\n",
       "    </tr>\n",
       "    <tr>\n",
       "      <th>Station</th>\n",
       "      <th></th>\n",
       "      <th></th>\n",
       "      <th></th>\n",
       "      <th></th>\n",
       "      <th></th>\n",
       "    </tr>\n",
       "  </thead>\n",
       "  <tbody>\n",
       "    <tr>\n",
       "      <th>Acton Town</th>\n",
       "      <td>9362</td>\n",
       "      <td>0.210425</td>\n",
       "      <td>0.280709</td>\n",
       "      <td>0.070284</td>\n",
       "      <td>1.334010</td>\n",
       "    </tr>\n",
       "    <tr>\n",
       "      <th>Aldgate</th>\n",
       "      <td>16136</td>\n",
       "      <td>0.459098</td>\n",
       "      <td>0.185424</td>\n",
       "      <td>-0.273674</td>\n",
       "      <td>0.403888</td>\n",
       "    </tr>\n",
       "    <tr>\n",
       "      <th>Aldgate East</th>\n",
       "      <td>21206</td>\n",
       "      <td>0.359238</td>\n",
       "      <td>0.179336</td>\n",
       "      <td>-0.179902</td>\n",
       "      <td>0.499212</td>\n",
       "    </tr>\n",
       "    <tr>\n",
       "      <th>Alperton</th>\n",
       "      <td>5118</td>\n",
       "      <td>0.167253</td>\n",
       "      <td>0.360883</td>\n",
       "      <td>0.193630</td>\n",
       "      <td>2.157710</td>\n",
       "    </tr>\n",
       "    <tr>\n",
       "      <th>Amersham</th>\n",
       "      <td>3905</td>\n",
       "      <td>0.108579</td>\n",
       "      <td>0.375160</td>\n",
       "      <td>0.266581</td>\n",
       "      <td>3.455189</td>\n",
       "    </tr>\n",
       "    <tr>\n",
       "      <th>...</th>\n",
       "      <td>...</td>\n",
       "      <td>...</td>\n",
       "      <td>...</td>\n",
       "      <td>...</td>\n",
       "      <td>...</td>\n",
       "    </tr>\n",
       "    <tr>\n",
       "      <th>Wimbledon Park</th>\n",
       "      <td>3296</td>\n",
       "      <td>0.150789</td>\n",
       "      <td>0.337985</td>\n",
       "      <td>0.187197</td>\n",
       "      <td>2.241449</td>\n",
       "    </tr>\n",
       "    <tr>\n",
       "      <th>Wood Green</th>\n",
       "      <td>18989</td>\n",
       "      <td>0.114013</td>\n",
       "      <td>0.341987</td>\n",
       "      <td>0.227974</td>\n",
       "      <td>2.999538</td>\n",
       "    </tr>\n",
       "    <tr>\n",
       "      <th>Wood Lane</th>\n",
       "      <td>6610</td>\n",
       "      <td>0.272012</td>\n",
       "      <td>0.267171</td>\n",
       "      <td>-0.004841</td>\n",
       "      <td>0.982202</td>\n",
       "    </tr>\n",
       "    <tr>\n",
       "      <th>Woodford</th>\n",
       "      <td>9585</td>\n",
       "      <td>0.073344</td>\n",
       "      <td>0.405738</td>\n",
       "      <td>0.332394</td>\n",
       "      <td>5.532006</td>\n",
       "    </tr>\n",
       "    <tr>\n",
       "      <th>Woodside Park</th>\n",
       "      <td>6146</td>\n",
       "      <td>0.079239</td>\n",
       "      <td>0.431826</td>\n",
       "      <td>0.352587</td>\n",
       "      <td>5.449692</td>\n",
       "    </tr>\n",
       "  </tbody>\n",
       "</table>\n",
       "<p>268 rows × 5 columns</p>\n",
       "</div>"
      ],
      "text/plain": [
       "                Total  AMproportion  PMproportion  Difference     Ratio\n",
       "Station                                                                \n",
       "Acton Town       9362      0.210425      0.280709    0.070284  1.334010\n",
       "Aldgate         16136      0.459098      0.185424   -0.273674  0.403888\n",
       "Aldgate East    21206      0.359238      0.179336   -0.179902  0.499212\n",
       "Alperton         5118      0.167253      0.360883    0.193630  2.157710\n",
       "Amersham         3905      0.108579      0.375160    0.266581  3.455189\n",
       "...               ...           ...           ...         ...       ...\n",
       "Wimbledon Park   3296      0.150789      0.337985    0.187197  2.241449\n",
       "Wood Green      18989      0.114013      0.341987    0.227974  2.999538\n",
       "Wood Lane        6610      0.272012      0.267171   -0.004841  0.982202\n",
       "Woodford         9585      0.073344      0.405738    0.332394  5.532006\n",
       "Woodside Park    6146      0.079239      0.431826    0.352587  5.449692\n",
       "\n",
       "[268 rows x 5 columns]"
      ]
     },
     "execution_count": 7,
     "metadata": {},
     "output_type": "execute_result"
    }
   ],
   "source": [
    "df_ratio = df_diff.assign(Ratio= df_proportions.PMproportion / df_proportions.AMproportion)\n",
    "peak_proportions = df_ratio\n",
    "peak_proportions"
   ]
  },
  {
   "cell_type": "markdown",
   "id": "monetary-devon",
   "metadata": {},
   "source": [
    "## Section 2: Plotting and Analysing Distributions\n",
    "In order to effectively plot histograms I need to find more information about this data - this is where a pivot table will help. A pivot table will allow me show only the data needed to produce a histogram that will help to visualise the distribution between the AM peaks and the PM peaks.\n",
    "\n",
    "In the next section the steps I will be taking are:\n",
    "1. Produce histograms of the AM and PM proportions and conduct analysis of their distributions.\n",
    "2. Conduct further analysis of the data using alternative graphs/plots."
   ]
  },
  {
   "cell_type": "code",
   "execution_count": 8,
   "id": "thirty-enough",
   "metadata": {},
   "outputs": [
    {
     "data": {
      "text/html": [
       "<div>\n",
       "<style scoped>\n",
       "    .dataframe tbody tr th:only-of-type {\n",
       "        vertical-align: middle;\n",
       "    }\n",
       "\n",
       "    .dataframe tbody tr th {\n",
       "        vertical-align: top;\n",
       "    }\n",
       "\n",
       "    .dataframe thead th {\n",
       "        text-align: right;\n",
       "    }\n",
       "</style>\n",
       "<table border=\"1\" class=\"dataframe\">\n",
       "  <thead>\n",
       "    <tr style=\"text-align: right;\">\n",
       "      <th></th>\n",
       "      <th>AMproportion</th>\n",
       "      <th>PMproportion</th>\n",
       "    </tr>\n",
       "    <tr>\n",
       "      <th>Station</th>\n",
       "      <th></th>\n",
       "      <th></th>\n",
       "    </tr>\n",
       "  </thead>\n",
       "  <tbody>\n",
       "    <tr>\n",
       "      <th>Acton Town</th>\n",
       "      <td>0.210425</td>\n",
       "      <td>0.280709</td>\n",
       "    </tr>\n",
       "    <tr>\n",
       "      <th>Aldgate</th>\n",
       "      <td>0.459098</td>\n",
       "      <td>0.185424</td>\n",
       "    </tr>\n",
       "    <tr>\n",
       "      <th>Aldgate East</th>\n",
       "      <td>0.359238</td>\n",
       "      <td>0.179336</td>\n",
       "    </tr>\n",
       "    <tr>\n",
       "      <th>Alperton</th>\n",
       "      <td>0.167253</td>\n",
       "      <td>0.360883</td>\n",
       "    </tr>\n",
       "    <tr>\n",
       "      <th>Amersham</th>\n",
       "      <td>0.108579</td>\n",
       "      <td>0.375160</td>\n",
       "    </tr>\n",
       "    <tr>\n",
       "      <th>...</th>\n",
       "      <td>...</td>\n",
       "      <td>...</td>\n",
       "    </tr>\n",
       "    <tr>\n",
       "      <th>Wimbledon Park</th>\n",
       "      <td>0.150789</td>\n",
       "      <td>0.337985</td>\n",
       "    </tr>\n",
       "    <tr>\n",
       "      <th>Wood Green</th>\n",
       "      <td>0.114013</td>\n",
       "      <td>0.341987</td>\n",
       "    </tr>\n",
       "    <tr>\n",
       "      <th>Wood Lane</th>\n",
       "      <td>0.272012</td>\n",
       "      <td>0.267171</td>\n",
       "    </tr>\n",
       "    <tr>\n",
       "      <th>Woodford</th>\n",
       "      <td>0.073344</td>\n",
       "      <td>0.405738</td>\n",
       "    </tr>\n",
       "    <tr>\n",
       "      <th>Woodside Park</th>\n",
       "      <td>0.079239</td>\n",
       "      <td>0.431826</td>\n",
       "    </tr>\n",
       "  </tbody>\n",
       "</table>\n",
       "<p>268 rows × 2 columns</p>\n",
       "</div>"
      ],
      "text/plain": [
       "                AMproportion  PMproportion\n",
       "Station                                   \n",
       "Acton Town          0.210425      0.280709\n",
       "Aldgate             0.459098      0.185424\n",
       "Aldgate East        0.359238      0.179336\n",
       "Alperton            0.167253      0.360883\n",
       "Amersham            0.108579      0.375160\n",
       "...                      ...           ...\n",
       "Wimbledon Park      0.150789      0.337985\n",
       "Wood Green          0.114013      0.341987\n",
       "Wood Lane           0.272012      0.267171\n",
       "Woodford            0.073344      0.405738\n",
       "Woodside Park       0.079239      0.431826\n",
       "\n",
       "[268 rows x 2 columns]"
      ]
     },
     "execution_count": 8,
     "metadata": {},
     "output_type": "execute_result"
    }
   ],
   "source": [
    "#Create pivot table\n",
    "pivot = peak_proportions.pivot_table(values=('AMproportion','PMproportion'), index='Station', aggfunc='sum')\n",
    "pivot"
   ]
  },
  {
   "cell_type": "markdown",
   "id": "artificial-savannah",
   "metadata": {},
   "source": [
    "### 2.1 Histograms\n",
    "I will produce histograms in order to provide better insight into the distribution of the dataset and it will provide some indicators for outliers if there are any.\n",
    "\n",
    "As you can see from the histograms below, the AM proportion has a heavy positive skew compared to the PM proportion which has a weak (negative) near-normal distribution. As a result, I believe that the AM proportion and PM proportion are slightly inversely proportional because as the AM proportion decreases, the PM proportion increases to a point. \n",
    "\n",
    "My conclusions can be confirmed by using the .describe() function which will provide details regarding the characteristics of the dataset including the mean and standard deviation."
   ]
  },
  {
   "cell_type": "code",
   "execution_count": 9,
   "id": "revised-elimination",
   "metadata": {},
   "outputs": [
    {
     "data": {
      "image/png": "[encoded data removed]",
      "text/plain": [
       "<Figure size 720x720 with 2 Axes>"
      ]
     },
     "metadata": {
      "needs_background": "light"
     },
     "output_type": "display_data"
    }
   ],
   "source": [
    "#Create histograms showing the distribution of both AM and PM peak proportions\n",
    "pivot.hist(figsize=(10,10), bins=20, sharex = True, sharey = True, layout=(2,1))\n",
    "plt.xlabel(\"Proportion of total exits\", fontsize=15)\n",
    "plt.ylabel(\"Number of Stations\", fontsize=15)\n",
    "plt.show()"
   ]
  },
  {
   "cell_type": "markdown",
   "id": "burning-content",
   "metadata": {},
   "source": [
    "### Analysis of Histograms\n",
    "\n",
    "Key takeaways from histograms:\n",
    "- Morning proportion has a positve skew as the median is higher than the mean, in addition the distribution has quite long tails which suggests that there are outliers which are affecting the mean of the distribution. \n",
    "- Morning proportion has a wider spread and higher standard deviation than Evening the proportion\n",
    "- Lower proportion of exits are used in the Morning than Evening\n",
    "- Evening proportion has a slightly negative but nearly normal distribution with a std of 0.08 and mean of 0.29 (median = 0.3).\n",
    "\n",
    "These results are not entirely surprising as it is commonly known that many people commute into London and use the Underground for work in the morning and therefore utilise a higher number of exits at a smaller number of stations in the Morning (or use a low number of exits at a high number of stations). In comparison to the number of London Underground stations being used in the evening by commuters on their way home which is a lot more varied due to the various areas in London / Greater London that people live in to commute to London."
   ]
  },
  {
   "cell_type": "markdown",
   "id": "labeled-eight",
   "metadata": {},
   "source": [
    "#### Data relating to the distribution of AM peak counts is shown below:\n",
    "\n",
    "I have used the `.describe()` function in order to find the mean and compare this to the skews in the histograms. I have used this purely for verification purposes as it confirms what is already discernible from the histograms."
   ]
  },
  {
   "cell_type": "code",
   "execution_count": 10,
   "id": "greenhouse-marijuana",
   "metadata": {},
   "outputs": [
    {
     "data": {
      "text/plain": [
       "count    268.000000\n",
       "mean       0.207132\n",
       "std        0.122161\n",
       "min        0.045302\n",
       "25%        0.116120\n",
       "50%        0.169378\n",
       "75%        0.266443\n",
       "max        0.630427\n",
       "Name: AMproportion, dtype: float64"
      ]
     },
     "execution_count": 10,
     "metadata": {},
     "output_type": "execute_result"
    }
   ],
   "source": [
    "df_proportions.AMproportion.describe()"
   ]
  },
  {
   "cell_type": "markdown",
   "id": "becoming-shelf",
   "metadata": {},
   "source": [
    "#### Data relating to the distribution of PM peak counts is shown below:"
   ]
  },
  {
   "cell_type": "code",
   "execution_count": 11,
   "id": "sonic-market",
   "metadata": {},
   "outputs": [
    {
     "data": {
      "text/plain": [
       "count    268.000000\n",
       "mean       0.298750\n",
       "std        0.087724\n",
       "min        0.084630\n",
       "25%        0.240947\n",
       "50%        0.307397\n",
       "75%        0.361596\n",
       "max        0.496079\n",
       "Name: PMproportion, dtype: float64"
      ]
     },
     "execution_count": 11,
     "metadata": {},
     "output_type": "execute_result"
    }
   ],
   "source": [
    "df_proportions.PMproportion.describe()"
   ]
  },
  {
   "cell_type": "markdown",
   "id": "vital-elephant",
   "metadata": {},
   "source": [
    "#### Data relating to the distribution of the difference between AM and PM peak proportions is shown below:"
   ]
  },
  {
   "cell_type": "code",
   "execution_count": 12,
   "id": "cleared-oregon",
   "metadata": {},
   "outputs": [
    {
     "data": {
      "text/plain": [
       "count    268.000000\n",
       "mean       0.091618\n",
       "std        0.203932\n",
       "min       -0.539649\n",
       "25%       -0.014010\n",
       "50%        0.139068\n",
       "75%        0.242542\n",
       "max        0.440373\n",
       "Name: Difference, dtype: float64"
      ]
     },
     "execution_count": 12,
     "metadata": {},
     "output_type": "execute_result"
    }
   ],
   "source": [
    "df_diff.Difference.describe()"
   ]
  },
  {
   "cell_type": "markdown",
   "id": "color-mystery",
   "metadata": {},
   "source": [
    "#### Data relating to the distribution of the ratio of PM peak counts to AM peak counts is shown below:"
   ]
  },
  {
   "cell_type": "code",
   "execution_count": 13,
   "id": "sophisticated-fashion",
   "metadata": {},
   "outputs": [
    {
     "data": {
      "text/plain": [
       "count    268.000000\n",
       "mean       2.235571\n",
       "std        1.738205\n",
       "min        0.136518\n",
       "25%        0.951802\n",
       "50%        1.799470\n",
       "75%        3.053160\n",
       "max        9.205224\n",
       "Name: Ratio, dtype: float64"
      ]
     },
     "execution_count": 13,
     "metadata": {},
     "output_type": "execute_result"
    }
   ],
   "source": [
    "peak_proportions.Ratio.describe()"
   ]
  },
  {
   "cell_type": "markdown",
   "id": "whole-sweet",
   "metadata": {},
   "source": [
    "### 2.2 Further analysis using alternative techniques\n",
    "\n",
    "The histograms have provided some insight into the distributon of the London Undergoround exit data. I can use quartile to quartile (QQ) plots to validate my conclusions about the skew and overall distribution of the data. \n",
    "\n",
    "Using QQ plots it is clear that my evaluations were correct as it is clear that there is a positive skew for the AM proportions as the tails are to the left of the 45 degree line. Moreover, the plots confirm that the PM peaks are nearly normally distributed as the line sits along the 45 degree line almost entirely with an exception at both tails.\n",
    "\n",
    "### 2.2.1 QQ plots"
   ]
  },
  {
   "cell_type": "code",
   "execution_count": 14,
   "id": "undefined-somalia",
   "metadata": {},
   "outputs": [
    {
     "data": {
      "image/png": "[encoded data removed]",
      "text/plain": [
       "<Figure size 432x288 with 1 Axes>"
      ]
     },
     "metadata": {
      "needs_background": "light"
     },
     "output_type": "display_data"
    },
    {
     "data": {
      "image/png": "[encoded data removed]",
      "text/plain": [
       "<Figure size 432x288 with 1 Axes>"
      ]
     },
     "metadata": {
      "needs_background": "light"
     },
     "output_type": "display_data"
    }
   ],
   "source": [
    "#Produce QQ plot for AM and PM proportions\n",
    "fig1 = sm.qqplot(df_proportions.AMproportion, fit=True, line=\"45\")\n",
    "fig2 = sm.qqplot(df_proportions.PMproportion, fit=True, line='45')\n",
    "plt.show()"
   ]
  },
  {
   "cell_type": "markdown",
   "id": "utility-nudist",
   "metadata": {},
   "source": [
    "### 2.3 Boxplots \n",
    "The `describe()` function used in the previous analysis section, shows important characteristics about the data such as the mean and the minimum and maximum values. However, it did not present this information in a clear manner that makes it easy to compare the qualities of AM proportion and the PM proportion. In order to do so, I am going to use boxplots.\n",
    "\n",
    "As you can see from the boxplots below there is undeniably an overlap between the AM and PM datasets, however there are some obvious observations which could only be inferred from the histograms.\n",
    "1. Thse boxplots confirm that the tails at the end of the AM proportions histogram are a number of clearly visible outliers which have skewed the distribution.\n",
    "2. The range of the data is slightly higher for AM proportions but is almost the same between the two therefore the minimum and maximum proportion for AM and PM is nearly the same.\n",
    "3. The median is considerably lower for AM proportions, as the median PM proportion is higher than the Q3 (third quartile) of AM proportions.\n",
    "4. Q1 (first quartile) for PM proportions is slightly below Q3 (third quartile) of AM proportions and therefore the IQR (interquartile range) between the two datasets nearly does not overlap."
   ]
  },
  {
   "cell_type": "code",
   "execution_count": 15,
   "id": "conservative-roads",
   "metadata": {},
   "outputs": [
    {
     "data": {
      "image/png": "[encoded data removed]",
      "text/plain": [
       "<Figure size 504x504 with 1 Axes>"
      ]
     },
     "metadata": {
      "needs_background": "light"
     },
     "output_type": "display_data"
    }
   ],
   "source": [
    "#Combine datasets so that they can be shown on one graph\n",
    "data = [df_proportions.AMproportion, df_proportions.PMproportion]\n",
    "\n",
    "fig = plt.figure(figsize =(7, 7)) \n",
    "ax = fig.add_axes([0, 0, 1, 1]) \n",
    "ax.set_axisbelow(True)\n",
    "ax.set_title('Comparison of the Distributions of the Proportion of Exits Used')\n",
    "ax.set_xlabel('AM peaks and PM peaks', fontsize=15)\n",
    "ax.set_ylabel('Proportion of total exits', fontsize=15)\n",
    "  \n",
    "# Creating plot \n",
    "bp = ax.boxplot(data) \n",
    "plt.show() "
   ]
  },
  {
   "cell_type": "markdown",
   "id": "given-female",
   "metadata": {},
   "source": [
    "### Analysis of Boxplots\n",
    "The main takeaway from these boxplots, which is similar to that of those with the histograms, is that there are clearly a high number of stations that have a low number of exits used in the Morning (as a proportion of the total number of exits used at that station) which in turn brings the mean and the IQR down significantly but there are also a few outlier stations that have a much higher number of exits used which increase the overall range of values.\n",
    "\n",
    "On the contrary, in the evening most stations have a similar number of exits utilise with no major outliers or deviations. This is because people travel to a greater number of stations in the evening as people commute from all over London, using a more consistent number of exits across the board so the mean is higher than in the Morning."
   ]
  },
  {
   "cell_type": "markdown",
   "id": "expanded-retro",
   "metadata": {},
   "source": [
    "### 2.4 Identifying Outliers\n",
    "As mentioned in section 2.2 insight 1) there are clearly some outliers within the AM proportion dataset (demonstrating by the left boxplot). To identify these outliers within the dataset I must first calculate the interquartile range as Q1 and Q3 were provided in the previous section using the `describe()` function. Then using these values to produce the upper and lower bounds for the dataset which will inform which values are categorised as outliers."
   ]
  },
  {
   "cell_type": "code",
   "execution_count": 16,
   "id": "chinese-consciousness",
   "metadata": {},
   "outputs": [],
   "source": [
    "#Provides details on distribution of dataset\n",
    "df_proportions.AMproportion.describe()\n",
    "\n",
    "# Define quartiles and calculate interquartile range\n",
    "Q1 = df_proportions.AMproportion.quantile(0.25)\n",
    "Q3 = df_proportions.AMproportion.quantile(0.75)\n",
    "\n",
    "IQR = Q3 - Q1\n",
    "IQR\n",
    "\n",
    "#Find upper bound and lower bound of AM proportion dataset\n",
    "lower_bound = Q1 -(1.5 * IQR) \n",
    "upper_bound = Q3 +(1.5 * IQR)\n",
    "\n",
    "#lower_bound\n",
    "#upper_bound"
   ]
  },
  {
   "cell_type": "markdown",
   "id": "greater-stocks",
   "metadata": {},
   "source": [
    "### Removing Outliers \n",
    "Below you can see that there are 11 stations that are considered outliers based on their AM proportions, however I will not be removing these outliers. Sometimes outliers can provide additional insights into the dataset and therefore it is not always best place to remove them but instead they could be corrected or better explain underlying issues with the dataset.\n",
    "\n",
    "I will posit that if I had removed the outliers I would expect to see the mean and median would decrease as the extreme values above the upper bound would be removed."
   ]
  },
  {
   "cell_type": "code",
   "execution_count": 17,
   "id": "unauthorized-moses",
   "metadata": {},
   "outputs": [
    {
     "data": {
      "text/plain": [
       "(11,)"
      ]
     },
     "execution_count": 17,
     "metadata": {},
     "output_type": "execute_result"
    }
   ],
   "source": [
    "#Find how many stations are considered outliers\n",
    "AM_prop_outlier = df_proportions.AMproportion[((df_proportions.AMproportion < (lower_bound)) |(df_proportions.AMproportion > (upper_bound)))]\n",
    "AM_prop_outlier.shape"
   ]
  },
  {
   "cell_type": "markdown",
   "id": "suited-bottom",
   "metadata": {},
   "source": [
    "## Section 3: A Simple Classification of Stations\n",
    "\n",
    "In this section I will classify the stations within the dataset into these three categories:\n",
    "\n",
    "1. Work: have (significantly) ‘more’ exits in the AM peak than in the PM peak\n",
    "2. Residential: have (significantly) ‘more’ exits in the PM peak than in the AM peak\n",
    "3. Other: the number exits in the AM and PM peaks are approximately equal\n",
    "\n",
    "There are several ways to determine the classification, I have chosen to use the AMproportion and PMproportion columns rather than the Difference column. Below you will see that by using '>' (more than) '<' and (less than), I have grouped the stations into the aforementioned categories.\n",
    "\n",
    "In this section I will:\n",
    "1. Define the classification and do relevant analysis\n",
    "2. Review Classification\n",
    "3. Test Classification\n",
    "\n",
    "### 3.1 Define Classification"
   ]
  },
  {
   "cell_type": "code",
   "execution_count": 18,
   "id": "theoretical-maria",
   "metadata": {},
   "outputs": [
    {
     "data": {
      "text/html": [
       "<div>\n",
       "<style scoped>\n",
       "    .dataframe tbody tr th:only-of-type {\n",
       "        vertical-align: middle;\n",
       "    }\n",
       "\n",
       "    .dataframe tbody tr th {\n",
       "        vertical-align: top;\n",
       "    }\n",
       "\n",
       "    .dataframe thead th {\n",
       "        text-align: right;\n",
       "    }\n",
       "</style>\n",
       "<table border=\"1\" class=\"dataframe\">\n",
       "  <thead>\n",
       "    <tr style=\"text-align: right;\">\n",
       "      <th></th>\n",
       "      <th>Total</th>\n",
       "      <th>AMproportion</th>\n",
       "      <th>PMproportion</th>\n",
       "      <th>Difference</th>\n",
       "      <th>Ratio</th>\n",
       "      <th>Category</th>\n",
       "    </tr>\n",
       "    <tr>\n",
       "      <th>Station</th>\n",
       "      <th></th>\n",
       "      <th></th>\n",
       "      <th></th>\n",
       "      <th></th>\n",
       "      <th></th>\n",
       "      <th></th>\n",
       "    </tr>\n",
       "  </thead>\n",
       "  <tbody>\n",
       "    <tr>\n",
       "      <th>Acton Town</th>\n",
       "      <td>9362</td>\n",
       "      <td>0.210425</td>\n",
       "      <td>0.280709</td>\n",
       "      <td>0.070284</td>\n",
       "      <td>1.334010</td>\n",
       "      <td>Residential</td>\n",
       "    </tr>\n",
       "    <tr>\n",
       "      <th>Aldgate</th>\n",
       "      <td>16136</td>\n",
       "      <td>0.459098</td>\n",
       "      <td>0.185424</td>\n",
       "      <td>-0.273674</td>\n",
       "      <td>0.403888</td>\n",
       "      <td>Work</td>\n",
       "    </tr>\n",
       "    <tr>\n",
       "      <th>Aldgate East</th>\n",
       "      <td>21206</td>\n",
       "      <td>0.359238</td>\n",
       "      <td>0.179336</td>\n",
       "      <td>-0.179902</td>\n",
       "      <td>0.499212</td>\n",
       "      <td>Work</td>\n",
       "    </tr>\n",
       "    <tr>\n",
       "      <th>Alperton</th>\n",
       "      <td>5118</td>\n",
       "      <td>0.167253</td>\n",
       "      <td>0.360883</td>\n",
       "      <td>0.193630</td>\n",
       "      <td>2.157710</td>\n",
       "      <td>Residential</td>\n",
       "    </tr>\n",
       "    <tr>\n",
       "      <th>Amersham</th>\n",
       "      <td>3905</td>\n",
       "      <td>0.108579</td>\n",
       "      <td>0.375160</td>\n",
       "      <td>0.266581</td>\n",
       "      <td>3.455189</td>\n",
       "      <td>Residential</td>\n",
       "    </tr>\n",
       "    <tr>\n",
       "      <th>...</th>\n",
       "      <td>...</td>\n",
       "      <td>...</td>\n",
       "      <td>...</td>\n",
       "      <td>...</td>\n",
       "      <td>...</td>\n",
       "      <td>...</td>\n",
       "    </tr>\n",
       "    <tr>\n",
       "      <th>Wimbledon Park</th>\n",
       "      <td>3296</td>\n",
       "      <td>0.150789</td>\n",
       "      <td>0.337985</td>\n",
       "      <td>0.187197</td>\n",
       "      <td>2.241449</td>\n",
       "      <td>Residential</td>\n",
       "    </tr>\n",
       "    <tr>\n",
       "      <th>Wood Green</th>\n",
       "      <td>18989</td>\n",
       "      <td>0.114013</td>\n",
       "      <td>0.341987</td>\n",
       "      <td>0.227974</td>\n",
       "      <td>2.999538</td>\n",
       "      <td>Residential</td>\n",
       "    </tr>\n",
       "    <tr>\n",
       "      <th>Wood Lane</th>\n",
       "      <td>6610</td>\n",
       "      <td>0.272012</td>\n",
       "      <td>0.267171</td>\n",
       "      <td>-0.004841</td>\n",
       "      <td>0.982202</td>\n",
       "      <td>Work</td>\n",
       "    </tr>\n",
       "    <tr>\n",
       "      <th>Woodford</th>\n",
       "      <td>9585</td>\n",
       "      <td>0.073344</td>\n",
       "      <td>0.405738</td>\n",
       "      <td>0.332394</td>\n",
       "      <td>5.532006</td>\n",
       "      <td>Residential</td>\n",
       "    </tr>\n",
       "    <tr>\n",
       "      <th>Woodside Park</th>\n",
       "      <td>6146</td>\n",
       "      <td>0.079239</td>\n",
       "      <td>0.431826</td>\n",
       "      <td>0.352587</td>\n",
       "      <td>5.449692</td>\n",
       "      <td>Residential</td>\n",
       "    </tr>\n",
       "  </tbody>\n",
       "</table>\n",
       "<p>268 rows × 6 columns</p>\n",
       "</div>"
      ],
      "text/plain": [
       "                Total  AMproportion  PMproportion  Difference     Ratio  \\\n",
       "Station                                                                   \n",
       "Acton Town       9362      0.210425      0.280709    0.070284  1.334010   \n",
       "Aldgate         16136      0.459098      0.185424   -0.273674  0.403888   \n",
       "Aldgate East    21206      0.359238      0.179336   -0.179902  0.499212   \n",
       "Alperton         5118      0.167253      0.360883    0.193630  2.157710   \n",
       "Amersham         3905      0.108579      0.375160    0.266581  3.455189   \n",
       "...               ...           ...           ...         ...       ...   \n",
       "Wimbledon Park   3296      0.150789      0.337985    0.187197  2.241449   \n",
       "Wood Green      18989      0.114013      0.341987    0.227974  2.999538   \n",
       "Wood Lane        6610      0.272012      0.267171   -0.004841  0.982202   \n",
       "Woodford         9585      0.073344      0.405738    0.332394  5.532006   \n",
       "Woodside Park    6146      0.079239      0.431826    0.352587  5.449692   \n",
       "\n",
       "                   Category  \n",
       "Station                      \n",
       "Acton Town      Residential  \n",
       "Aldgate                Work  \n",
       "Aldgate East           Work  \n",
       "Alperton        Residential  \n",
       "Amersham        Residential  \n",
       "...                     ...  \n",
       "Wimbledon Park  Residential  \n",
       "Wood Green      Residential  \n",
       "Wood Lane              Work  \n",
       "Woodford        Residential  \n",
       "Woodside Park   Residential  \n",
       "\n",
       "[268 rows x 6 columns]"
      ]
     },
     "execution_count": 18,
     "metadata": {},
     "output_type": "execute_result"
    }
   ],
   "source": [
    "#Create classes\n",
    "def stationCategory(row):\n",
    "    if (row.AMproportion > row.PMproportion) : return 'Work'\n",
    "    if (row.AMproportion < row.PMproportion) : return 'Residential'\n",
    "    return 'Other'\n",
    "\n",
    "peak_proportions.apply(stationCategory, axis=1)\n",
    "\n",
    "new_df = peak_proportions.assign(Category = peak_proportions.apply(stationCategory, axis=1))\n",
    "new_df"
   ]
  },
  {
   "cell_type": "markdown",
   "id": "ceramic-sharp",
   "metadata": {},
   "source": [
    "#### Analysis of Station Classification\n",
    "\n",
    "By using the AMproportions and PMproportions columns, I have not received the most accurate classification possible. Below you can see that by using this method there are only two stations that have exactly the same number of AM and PM peak values. However, if you look above at Wood Lane station, the difference between AM and PM peaks is -0.004 which to 2 decimal places is -0.00 and therefore nearly equal and thus should be included in the Other category.\n",
    "\n",
    "I could simply set the precision for the dataset to 3 decimal places and hope this fixes the issue but instead in order to obtain as many approximately equal AM peak and PM peak stations in the Other category, I will redefine the categories in the next sub-section."
   ]
  },
  {
   "cell_type": "code",
   "execution_count": 19,
   "id": "supposed-heather",
   "metadata": {},
   "outputs": [
    {
     "data": {
      "text/html": [
       "<div>\n",
       "<style scoped>\n",
       "    .dataframe tbody tr th:only-of-type {\n",
       "        vertical-align: middle;\n",
       "    }\n",
       "\n",
       "    .dataframe tbody tr th {\n",
       "        vertical-align: top;\n",
       "    }\n",
       "\n",
       "    .dataframe thead th {\n",
       "        text-align: right;\n",
       "    }\n",
       "</style>\n",
       "<table border=\"1\" class=\"dataframe\">\n",
       "  <thead>\n",
       "    <tr style=\"text-align: right;\">\n",
       "      <th></th>\n",
       "      <th>Total</th>\n",
       "      <th>AMproportion</th>\n",
       "      <th>PMproportion</th>\n",
       "      <th>Difference</th>\n",
       "      <th>Ratio</th>\n",
       "      <th>Category</th>\n",
       "    </tr>\n",
       "    <tr>\n",
       "      <th>Station</th>\n",
       "      <th></th>\n",
       "      <th></th>\n",
       "      <th></th>\n",
       "      <th></th>\n",
       "      <th></th>\n",
       "      <th></th>\n",
       "    </tr>\n",
       "  </thead>\n",
       "  <tbody>\n",
       "    <tr>\n",
       "      <th>Hampstead</th>\n",
       "      <td>7286</td>\n",
       "      <td>0.233599</td>\n",
       "      <td>0.233599</td>\n",
       "      <td>0.0</td>\n",
       "      <td>1.0</td>\n",
       "      <td>Other</td>\n",
       "    </tr>\n",
       "    <tr>\n",
       "      <th>Moor Park</th>\n",
       "      <td>1584</td>\n",
       "      <td>0.301136</td>\n",
       "      <td>0.301136</td>\n",
       "      <td>0.0</td>\n",
       "      <td>1.0</td>\n",
       "      <td>Other</td>\n",
       "    </tr>\n",
       "  </tbody>\n",
       "</table>\n",
       "</div>"
      ],
      "text/plain": [
       "           Total  AMproportion  PMproportion  Difference  Ratio Category\n",
       "Station                                                                 \n",
       "Hampstead   7286      0.233599      0.233599         0.0    1.0    Other\n",
       "Moor Park   1584      0.301136      0.301136         0.0    1.0    Other"
      ]
     },
     "execution_count": 19,
     "metadata": {},
     "output_type": "execute_result"
    }
   ],
   "source": [
    "new_df.loc[new_df.Category == 'Other']"
   ]
  },
  {
   "cell_type": "markdown",
   "id": "sustainable-spiritual",
   "metadata": {},
   "source": [
    "Below are the number of stations in each category. I will compare this value to the values obtained after redefining the classification for those categories"
   ]
  },
  {
   "cell_type": "code",
   "execution_count": 20,
   "id": "flying-needle",
   "metadata": {},
   "outputs": [
    {
     "name": "stdout",
     "output_type": "stream",
     "text": [
      "The number of stations classed as Work is:  72\n",
      "The number of stations classed as Residential is:  194\n",
      "The number of stations classed as Other is:  2\n"
     ]
    }
   ],
   "source": [
    "#Number of stations classified as Work\n",
    "work = len(new_df.loc[new_df.Category == 'Work'])\n",
    "residential = len(new_df.loc[new_df.Category == 'Residential'])\n",
    "other = len(new_df.loc[new_df.Category == 'Other'])\n",
    "print('The number of stations classed as Work is: ',work )\n",
    "print('The number of stations classed as Residential is: ', residential)\n",
    "print('The number of stations classed as Other is: ', other)"
   ]
  },
  {
   "cell_type": "markdown",
   "id": "enormous-martin",
   "metadata": {},
   "source": [
    "### 3.2 Redefining Classification\n",
    "\n",
    "As mentioned, I will reclassify the stations using the Difference column I calculated in section 1. For the calculation of the Difference column I used `PM peak proportion - AM peak proportion`, therefore a positive difference means that the PM value is larger than the AM value. I have chosen to use 10% or 0.1 as determinant for `approximately equal` as I believe this is appropriate value, looking at the distribution of the dataset.\n",
    "\n",
    "It is also worth noting that rather than use the difference, I could also use the ratio that I calculated in section 1 also and determine the \"significant difference\" as something arbitray like a ratio of more than 1.5 or less than 0.5. However, in this case I have chosen to stick with the difference."
   ]
  },
  {
   "cell_type": "code",
   "execution_count": 21,
   "id": "unauthorized-diameter",
   "metadata": {},
   "outputs": [],
   "source": [
    "#Reclassifying station categories using Difference column\n",
    "def stationCategory2(row):\n",
    "    if (row.Difference > 0.1) : return 'Residential'\n",
    "    if (row.Difference < -0.1) : return 'Work'\n",
    "    return 'Other'\n",
    "\n",
    "peak_proportions.apply(stationCategory2, axis=1)\n",
    "\n",
    "redefine_df = peak_proportions.assign(Category = peak_proportions.apply(stationCategory2, axis=1))"
   ]
  },
  {
   "cell_type": "markdown",
   "id": "spread-suite",
   "metadata": {},
   "source": [
    "#### 3.2.1 Updated Analysis\n",
    "\n",
    "As you can see the classification of stations is a lot more distributed as a result of using the difference column as the classifier. The number of stations classified as 'Work' and 'Residential' have both decreased whereas the number of 'Other' stations has increased substantially.\n",
    "\n",
    "This classification is still very simple and therefore will not necessarily produce completely accurate results which is why I must test the accuracy. In the next section I will use some Northern Line Underground stations to do this."
   ]
  },
  {
   "cell_type": "code",
   "execution_count": 22,
   "id": "inclusive-married",
   "metadata": {},
   "outputs": [
    {
     "name": "stdout",
     "output_type": "stream",
     "text": [
      "The updated number of stations classed as Work is:  48\n",
      "The updated number of stations classed as Residential is:  147\n",
      "The updated number of stations classed as Other is:  73\n"
     ]
    }
   ],
   "source": [
    "work_update = len(redefine_df.loc[redefine_df.Category == 'Work'])\n",
    "residential_update = len(redefine_df.loc[redefine_df.Category == 'Residential'])\n",
    "other_update = len(redefine_df.loc[redefine_df.Category == 'Other'])\n",
    "\n",
    "print('The updated number of stations classed as Work is: ',work_update )\n",
    "print('The updated number of stations classed as Residential is: ', residential_update)\n",
    "print('The updated number of stations classed as Other is: ', other_update)"
   ]
  },
  {
   "cell_type": "markdown",
   "id": "neutral-pharmacology",
   "metadata": {},
   "source": [
    "### 3.3 Test Classification Using Sample of Stations\n",
    "\n",
    "In order to test the accuracy of my classifications let's find the classification of the following Northern Line Underground Stations...\n",
    "\n",
    "Archway, Balham, Embankment, Goodge Street, Highgate, High Barnet, Leicester Square,\n",
    "Morden, South Wimbledon, Tottenham Court Road and Warren Street."
   ]
  },
  {
   "cell_type": "code",
   "execution_count": 23,
   "id": "marked-subdivision",
   "metadata": {},
   "outputs": [
    {
     "data": {
      "text/html": [
       "<div>\n",
       "<style scoped>\n",
       "    .dataframe tbody tr th:only-of-type {\n",
       "        vertical-align: middle;\n",
       "    }\n",
       "\n",
       "    .dataframe tbody tr th {\n",
       "        vertical-align: top;\n",
       "    }\n",
       "\n",
       "    .dataframe thead th {\n",
       "        text-align: right;\n",
       "    }\n",
       "</style>\n",
       "<table border=\"1\" class=\"dataframe\">\n",
       "  <thead>\n",
       "    <tr style=\"text-align: right;\">\n",
       "      <th></th>\n",
       "      <th>Category</th>\n",
       "    </tr>\n",
       "    <tr>\n",
       "      <th>Station</th>\n",
       "      <th></th>\n",
       "    </tr>\n",
       "  </thead>\n",
       "  <tbody>\n",
       "    <tr>\n",
       "      <th>Acton Town</th>\n",
       "      <td>Other</td>\n",
       "    </tr>\n",
       "    <tr>\n",
       "      <th>Aldgate</th>\n",
       "      <td>Work</td>\n",
       "    </tr>\n",
       "    <tr>\n",
       "      <th>Aldgate East</th>\n",
       "      <td>Work</td>\n",
       "    </tr>\n",
       "    <tr>\n",
       "      <th>Alperton</th>\n",
       "      <td>Residential</td>\n",
       "    </tr>\n",
       "    <tr>\n",
       "      <th>Amersham</th>\n",
       "      <td>Residential</td>\n",
       "    </tr>\n",
       "    <tr>\n",
       "      <th>...</th>\n",
       "      <td>...</td>\n",
       "    </tr>\n",
       "    <tr>\n",
       "      <th>Wimbledon Park</th>\n",
       "      <td>Residential</td>\n",
       "    </tr>\n",
       "    <tr>\n",
       "      <th>Wood Green</th>\n",
       "      <td>Residential</td>\n",
       "    </tr>\n",
       "    <tr>\n",
       "      <th>Wood Lane</th>\n",
       "      <td>Other</td>\n",
       "    </tr>\n",
       "    <tr>\n",
       "      <th>Woodford</th>\n",
       "      <td>Residential</td>\n",
       "    </tr>\n",
       "    <tr>\n",
       "      <th>Woodside Park</th>\n",
       "      <td>Residential</td>\n",
       "    </tr>\n",
       "  </tbody>\n",
       "</table>\n",
       "<p>268 rows × 1 columns</p>\n",
       "</div>"
      ],
      "text/plain": [
       "                   Category\n",
       "Station                    \n",
       "Acton Town            Other\n",
       "Aldgate                Work\n",
       "Aldgate East           Work\n",
       "Alperton        Residential\n",
       "Amersham        Residential\n",
       "...                     ...\n",
       "Wimbledon Park  Residential\n",
       "Wood Green      Residential\n",
       "Wood Lane             Other\n",
       "Woodford        Residential\n",
       "Woodside Park   Residential\n",
       "\n",
       "[268 rows x 1 columns]"
      ]
     },
     "execution_count": 23,
     "metadata": {},
     "output_type": "execute_result"
    }
   ],
   "source": [
    "pivot_df = redefine_df.pivot_table(values= 'Category', index='Station', aggfunc='sum' )\n",
    "pivot_df"
   ]
  },
  {
   "cell_type": "markdown",
   "id": "challenging-shopper",
   "metadata": {},
   "source": [
    "### The following have all been classified as Work:\n",
    "\n",
    "This is unsurprising as all these stations are all within Fare Zone 1 and therefore in Central London which is the area of London that is traditionally associated with work and / or business."
   ]
  },
  {
   "cell_type": "code",
   "execution_count": 24,
   "id": "occupied-gospel",
   "metadata": {},
   "outputs": [
    {
     "data": {
      "text/plain": [
       "Category    Work\n",
       "Name: Goodge Street, dtype: object"
      ]
     },
     "execution_count": 24,
     "metadata": {},
     "output_type": "execute_result"
    }
   ],
   "source": [
    "pivot_df.loc['Goodge Street']"
   ]
  },
  {
   "cell_type": "code",
   "execution_count": 25,
   "id": "dietary-trash",
   "metadata": {},
   "outputs": [
    {
     "data": {
      "text/plain": [
       "Category    Work\n",
       "Name: Tottenham Court Road, dtype: object"
      ]
     },
     "execution_count": 25,
     "metadata": {},
     "output_type": "execute_result"
    }
   ],
   "source": [
    "pivot_df.loc['Tottenham Court Road']"
   ]
  },
  {
   "cell_type": "code",
   "execution_count": 26,
   "id": "consistent-frame",
   "metadata": {},
   "outputs": [
    {
     "data": {
      "text/plain": [
       "Category    Work\n",
       "Name: Warren Street, dtype: object"
      ]
     },
     "execution_count": 26,
     "metadata": {},
     "output_type": "execute_result"
    }
   ],
   "source": [
    "pivot_df.loc['Warren Street']"
   ]
  },
  {
   "cell_type": "markdown",
   "id": "written-progress",
   "metadata": {},
   "source": [
    "### The following have all been classified as Residential:\n",
    "\n",
    "These stations are distributed across more London fare zones than above. However, all these stations are in Zone 3 or higher and therefore further away from Central London. This is also aligned with them being classed as residential as the residential areas within London typically span across all fare zones but least of all Zones 1 and 2. "
   ]
  },
  {
   "cell_type": "code",
   "execution_count": 27,
   "id": "unnecessary-sweden",
   "metadata": {},
   "outputs": [
    {
     "data": {
      "text/plain": [
       "Category    Residential\n",
       "Name: Archway, dtype: object"
      ]
     },
     "execution_count": 27,
     "metadata": {},
     "output_type": "execute_result"
    }
   ],
   "source": [
    "pivot_df.loc['Archway']    "
   ]
  },
  {
   "cell_type": "code",
   "execution_count": 28,
   "id": "faced-sullivan",
   "metadata": {},
   "outputs": [
    {
     "data": {
      "text/plain": [
       "Category    Residential\n",
       "Name: Balham, dtype: object"
      ]
     },
     "execution_count": 28,
     "metadata": {},
     "output_type": "execute_result"
    }
   ],
   "source": [
    "pivot_df.loc['Balham']"
   ]
  },
  {
   "cell_type": "code",
   "execution_count": 29,
   "id": "absent-cricket",
   "metadata": {},
   "outputs": [
    {
     "data": {
      "text/plain": [
       "Category    Residential\n",
       "Name: Highgate, dtype: object"
      ]
     },
     "execution_count": 29,
     "metadata": {},
     "output_type": "execute_result"
    }
   ],
   "source": [
    "pivot_df.loc['Highgate']"
   ]
  },
  {
   "cell_type": "code",
   "execution_count": 30,
   "id": "expanded-possible",
   "metadata": {},
   "outputs": [
    {
     "data": {
      "text/plain": [
       "Category    Residential\n",
       "Name: High Barnet, dtype: object"
      ]
     },
     "execution_count": 30,
     "metadata": {},
     "output_type": "execute_result"
    }
   ],
   "source": [
    "pivot_df.loc['High Barnet'] "
   ]
  },
  {
   "cell_type": "code",
   "execution_count": 31,
   "id": "specialized-blade",
   "metadata": {},
   "outputs": [
    {
     "data": {
      "text/plain": [
       "Category    Residential\n",
       "Name: Morden, dtype: object"
      ]
     },
     "execution_count": 31,
     "metadata": {},
     "output_type": "execute_result"
    }
   ],
   "source": [
    "pivot_df.loc['Morden']"
   ]
  },
  {
   "cell_type": "code",
   "execution_count": 32,
   "id": "available-regular",
   "metadata": {},
   "outputs": [
    {
     "data": {
      "text/plain": [
       "Category    Residential\n",
       "Name: South Wimbledon, dtype: object"
      ]
     },
     "execution_count": 32,
     "metadata": {},
     "output_type": "execute_result"
    }
   ],
   "source": [
    "pivot_df.loc['South Wimbledon']"
   ]
  },
  {
   "cell_type": "markdown",
   "id": "lasting-albania",
   "metadata": {},
   "source": [
    "### The following have been classified within the Other category:\n",
    "\n",
    "These two are also less surprising as they are associated neither with Work or Residential life. These two areas are associated more with leisure and free time and thus have a more consisted flow of traffic throughout the entire day and therefore the 'Other' category seems highly appropriate. "
   ]
  },
  {
   "cell_type": "code",
   "execution_count": 33,
   "id": "static-coordination",
   "metadata": {},
   "outputs": [
    {
     "data": {
      "text/plain": [
       "Category    Other\n",
       "Name: Leicester Square, dtype: object"
      ]
     },
     "execution_count": 33,
     "metadata": {},
     "output_type": "execute_result"
    }
   ],
   "source": [
    "pivot_df.loc['Leicester Square']"
   ]
  },
  {
   "cell_type": "code",
   "execution_count": 34,
   "id": "internal-directory",
   "metadata": {},
   "outputs": [
    {
     "data": {
      "text/plain": [
       "Category    Other\n",
       "Name: Embankment, dtype: object"
      ]
     },
     "execution_count": 34,
     "metadata": {},
     "output_type": "execute_result"
    }
   ],
   "source": [
    "pivot_df.loc['Embankment']"
   ]
  },
  {
   "cell_type": "markdown",
   "id": "likely-prerequisite",
   "metadata": {},
   "source": [
    "### 3.4 Conclusion\n",
    "Despite how simple this classification is, it has been surprisingly accurate. There are a lot of variables that will contribute to stations being categorised within `Work`, `Residential` or `Other` areas but this suggests that `Morning` and `Evening` peak proportions is an important variable. There are undoubtedly stations that have been misclassified or need further analysis however I would say that this classification has passed the Northern Line test."
   ]
  }
 ],
 "metadata": {
  "kernelspec": {
   "display_name": "Python 3",
   "language": "python",
   "name": "python3"
  },
  "language_info": {
   "codemirror_mode": {
    "name": "ipython",
    "version": 3
   },
   "file_extension": ".py",
   "mimetype": "text/x-python",
   "name": "python",
   "nbconvert_exporter": "python",
   "pygments_lexer": "ipython3",
   "version": "3.7.4"
  }
 },
 "nbformat": 4,
 "nbformat_minor": 5
}
